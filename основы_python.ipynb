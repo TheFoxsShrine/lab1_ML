{
 "nbformat": 4,
 "nbformat_minor": 0,
 "metadata": {
  "colab": {
   "provenance": []
  },
  "kernelspec": {
   "name": "python3",
   "display_name": "Python 3 (ipykernel)",
   "language": "python"
  },
  "language_info": {
   "name": "python"
  }
 },
 "cells": [
  {
   "cell_type": "markdown",
   "source": [
    "#Задача 1\n",
    "Написать функцию на вход которой подается строка, состоящая из латинских букв.\n",
    "Функция должна вернуть количество гласных букв (a, e, i, o, u) в этой строке. Написать тесты для кода"
   ],
   "metadata": {
    "id": "M-DGa20PaHnu"
   }
  },
  {
   "cell_type": "code",
   "source": [
    "def count_vow(s: str) -> int:\n",
    "    vowels = set(\"aeiou\")\n",
    "    return sum(1 for char in s.lower() if char in vowels)\n",
    "\n",
    "print(count_vow('hello world'))"
   ],
   "metadata": {
    "id": "XvX8X_JJ6PCb",
    "ExecuteTime": {
     "end_time": "2025-04-02T14:33:20.088660Z",
     "start_time": "2025-04-02T14:33:20.085609Z"
    }
   },
   "outputs": [
    {
     "name": "stdout",
     "output_type": "stream",
     "text": [
      "3\n"
     ]
    }
   ],
   "execution_count": 45
  },
  {
   "cell_type": "markdown",
   "source": [
    "# Задача 2\n",
    "Написать функцию на вход, которой подается строка. Функция должна вернуть true, если\n",
    "каждый символ в строке встречается только 1 раз, иначе должна вернуть false. Написать тесты для кода"
   ],
   "metadata": {
    "id": "t2ClV_Y0bbr6"
   }
  },
  {
   "cell_type": "code",
   "source": [
    "def is_unique(s):\n",
    "    return len(s) == len(set(s))"
   ],
   "metadata": {
    "id": "FppbECao6VIz",
    "ExecuteTime": {
     "end_time": "2025-04-02T14:11:19.295076Z",
     "start_time": "2025-04-02T14:11:19.292824Z"
    }
   },
   "outputs": [],
   "execution_count": 8
  },
  {
   "metadata": {
    "ExecuteTime": {
     "end_time": "2025-04-02T14:11:20.453792Z",
     "start_time": "2025-04-02T14:11:20.449793Z"
    }
   },
   "cell_type": "code",
   "source": [
    "print(is_unique(\"abcde\")) #вернет True\n",
    "print(is_unique(\"abcdea\")) #вернет False\n",
    "print(is_unique(\"\")) #вернет True\n",
    "print(is_unique(\"123456\")) #вернет True\n",
    "print(is_unique(\"12341\")) #вернет False\n",
    "print(is_unique(\"aBc\")) #вернет True"
   ],
   "outputs": [
    {
     "name": "stdout",
     "output_type": "stream",
     "text": [
      "True\n",
      "False\n",
      "True\n",
      "True\n",
      "False\n",
      "True\n"
     ]
    }
   ],
   "execution_count": 9
  },
  {
   "cell_type": "markdown",
   "source": [
    "# Задача 3\n",
    "Написать функцию, которая принимает положительное число и возвращает количество\n",
    "бит равных 1 в этом числе. Написать тесты для кода"
   ],
   "metadata": {
    "id": "udRiIK1cdt6E"
   }
  },
  {
   "cell_type": "code",
   "source": [
    "def count_bits(n):\n",
    "    if n < 0:\n",
    "        raise ValueError(\"Число должно быть положительным.\")\n",
    "    return bin(n).count('1')"
   ],
   "metadata": {
    "id": "6tkfDJRz6dp_",
    "ExecuteTime": {
     "end_time": "2025-04-02T14:16:21.860855Z",
     "start_time": "2025-04-02T14:16:21.857718Z"
    }
   },
   "outputs": [],
   "execution_count": 15
  },
  {
   "metadata": {
    "ExecuteTime": {
     "end_time": "2025-04-02T14:16:16.211429Z",
     "start_time": "2025-04-02T14:16:16.207039Z"
    }
   },
   "cell_type": "code",
   "source": [
    "print(count_bits(0))    # Ожидается 0\n",
    "print(count_bits(1))    # Ожидается 1\n",
    "print(count_bits(2))    # Ожидается 1\n",
    "print(count_bits(3))    # Ожидается 2\n",
    "print(count_bits(4))    # Ожидается 1\n",
    "print(count_bits(15))   # Ожидается 4\n",
    "print(count_bits(255))  # Ожидается 8\n",
    "print(count_bits(256))  # Ожидается 1"
   ],
   "outputs": [
    {
     "name": "stdout",
     "output_type": "stream",
     "text": [
      "0\n",
      "1\n",
      "1\n",
      "2\n",
      "1\n",
      "4\n",
      "8\n",
      "1\n"
     ]
    }
   ],
   "execution_count": 14
  },
  {
   "cell_type": "markdown",
   "source": [
    "# Задача 4\n",
    "Написать функцию, которая принимает положительное число. Функция должна вернуть то,\n",
    "сколько раз необходимо перемножать цифры числа или результат перемножения, чтобы\n",
    "получилось число состоящее из одной цифры.\n",
    "Например, для входного числа:\n",
    "· 39 функция должна вернуть 3, так как 3*9=27 => 2*7=14 => 1*4=4\n",
    "· 4 функция должна вернуть 0, так как число уже состоит из одной цифры\n",
    "· 999 функция должна вернуть 4, так как 9*9*9=729 => 7*2*9=126 => 1*2*6=12 =>\n",
    "1*2=2. Написать тесты для кода"
   ],
   "metadata": {
    "id": "26dDUz-Ae17N"
   }
  },
  {
   "cell_type": "code",
   "source": [
    "def magic(n):\n",
    "    if n < 10:\n",
    "        return 0  # Already a single digit\n",
    "\n",
    "    count = 0\n",
    "    while n >= 10:\n",
    "        product = 1\n",
    "        while n > 0:\n",
    "            product *= n % 10  # Multiply the last digit\n",
    "            n //= 10           # Remove the last digit\n",
    "        n = product\n",
    "        count += 1\n",
    "\n",
    "    return count"
   ],
   "metadata": {
    "id": "BH1A_Mgi6i4G",
    "ExecuteTime": {
     "end_time": "2025-04-02T14:18:52.975413Z",
     "start_time": "2025-04-02T14:18:52.972475Z"
    }
   },
   "outputs": [],
   "execution_count": 18
  },
  {
   "metadata": {
    "ExecuteTime": {
     "end_time": "2025-04-02T14:19:15.631858Z",
     "start_time": "2025-04-02T14:19:15.628857Z"
    }
   },
   "cell_type": "code",
   "source": [
    "print(magic(39))   # Ожидается 3\n",
    "print(magic(4))    # Ожидается 0\n",
    "print(magic(999))  # Ожидается 4\n",
    "print(magic(10))   # Ожидается 1 \n",
    "print(magic(123))  # Ожидается 1 \n",
    "print(magic(5))    # Ожидается 0 \n",
    "print(magic(77))   # Ожидается 1"
   ],
   "outputs": [
    {
     "name": "stdout",
     "output_type": "stream",
     "text": [
      "3\n",
      "0\n",
      "4\n",
      "1\n",
      "1\n",
      "0\n",
      "4\n"
     ]
    }
   ],
   "execution_count": 20
  },
  {
   "cell_type": "markdown",
   "source": [
    "# Задача 5\n",
    "Написать функцию, которая принимает два целочисленных вектора одинаковой длины и\n",
    "возвращает среднеквадратическое отклонение двух векторов. Написать тесты для кода"
   ],
   "metadata": {
    "id": "0nS-kIa8g8vd"
   }
  },
  {
   "cell_type": "code",
   "source": [
    "def mse(pred, true):\n",
    "    if len(pred) != len(true):\n",
    "        raise ValueError(\"Vectors must be of the same length\")\n",
    "\n",
    "    mse_value = sum((p - t) ** 2 for p, t in zip(pred, true)) / len(pred)\n",
    "    return mse_value"
   ],
   "metadata": {
    "id": "8iphx4LM6xbx",
    "ExecuteTime": {
     "end_time": "2025-04-02T14:22:05.725850Z",
     "start_time": "2025-04-02T14:22:05.722500Z"
    }
   },
   "outputs": [],
   "execution_count": 27
  },
  {
   "metadata": {
    "ExecuteTime": {
     "end_time": "2025-04-02T14:22:06.921098Z",
     "start_time": "2025-04-02T14:22:06.917057Z"
    }
   },
   "cell_type": "code",
   "source": [
    "if __name__ == \"__main__\":\n",
    "   \n",
    "    pred1 = [1, 2, 3]\n",
    "    true1 = [1, 2, 3]\n",
    "    print(\"Cреднеквадратическое отклонение:\", mse(pred1, true1))\n",
    "\n",
    "    pred2 = [1, 2, 3]\n",
    "    true2 = [4, 5, 6]\n",
    "    print(\"Cреднеквадратическое отклонение:\", mse(pred2, true2))\n",
    "\n",
    "    pred3 = [2, 3, 4]\n",
    "    true3 = [1, 2, 3]\n",
    "    print(\"Cреднеквадратическое отклонение:\", mse(pred3, true3))\n",
    "\n",
    "    pred4 = [0, 0, 0]\n",
    "    true4 = [0, 0, 0]\n",
    "    print(\"Cреднеквадратическое отклонение:\", mse(pred4, true4))\n",
    "\n",
    "    pred5 = [-1, 0, 1]\n",
    "    true5 = [1, 0, -1]\n",
    "    print(\"Cреднеквадратическое отклонение:\", mse(pred5, true5))"
   ],
   "outputs": [
    {
     "name": "stdout",
     "output_type": "stream",
     "text": [
      "Cреднеквадратическое отклонение: 0.0\n",
      "Cреднеквадратическое отклонение: 9.0\n",
      "Cреднеквадратическое отклонение: 1.0\n",
      "Cреднеквадратическое отклонение: 0.0\n",
      "Cреднеквадратическое отклонение: 2.6666666666666665\n"
     ]
    }
   ],
   "execution_count": 28
  },
  {
   "cell_type": "markdown",
   "source": [
    "# Задача 6\n",
    "Написать функцию, принимающая целое положительное число. Функция должна вернуть\n",
    "строку вида “(n1**p1)(n2**p2)…(nk**pk)” представляющая разложение числа на простые\n",
    "множители (если pi == 1, то выводить только ni).\n",
    "Например, для числа 86240 функция должна вернуть “(2**5)(5)(7**2)(11)”. Написать тесты для кода"
   ],
   "metadata": {
    "id": "vpIPKL439zkw"
   }
  },
  {
   "cell_type": "code",
   "source": [
    "def prime_factorization(n):\n",
    "    factors = {}\n",
    "    \n",
    "    while n % 2 == 0:\n",
    "        if 2 in factors:\n",
    "            factors[2] += 1\n",
    "        else:\n",
    "            factors[2] = 1\n",
    "        n //= 2\n",
    "    \n",
    "    for i in range(3, int(n**0.5) + 1, 2):\n",
    "        while n % i == 0:\n",
    "            if i in factors:\n",
    "                factors[i] += 1\n",
    "            else:\n",
    "                factors[i] = 1\n",
    "            n //= i\n",
    "            \n",
    "    if n > 2:\n",
    "        factors[n] = 1\n",
    "\n",
    "    result = ''\n",
    "    for base, exponent in factors.items():\n",
    "        if exponent == 1:\n",
    "            result += f'({base})'\n",
    "        else:\n",
    "            result += f'({base}**{exponent})'\n",
    "    \n",
    "    return result"
   ],
   "metadata": {
    "id": "pFebmcZk94Jw",
    "ExecuteTime": {
     "end_time": "2025-04-02T14:23:03.626702Z",
     "start_time": "2025-04-02T14:23:03.622704Z"
    }
   },
   "outputs": [],
   "execution_count": 29
  },
  {
   "metadata": {
    "ExecuteTime": {
     "end_time": "2025-04-02T14:23:36.878730Z",
     "start_time": "2025-04-02T14:23:36.875341Z"
    }
   },
   "cell_type": "code",
   "source": [
    "print(prime_factorization(86240))  # Ожидается \"(2**5)(5)(7**2)(11)\"\n",
    "print(prime_factorization(100))     # Ожидается  \"(2**2)(5**2)\"\n",
    "print(prime_factorization(30))      # Ожидается  \"(2)(3)(5)\"\n",
    "print(prime_factorization(56))      # Ожидается  \"(2**3)(7)\"\n",
    "print(prime_factorization(1))       # Ожидается  \"\" (пустая строка для 1)"
   ],
   "outputs": [
    {
     "name": "stdout",
     "output_type": "stream",
     "text": [
      "(2**5)(5)(7**2)(11)\n",
      "(2**2)(5**2)\n",
      "(2)(3)(5)\n",
      "(2**3)(7)\n",
      "\n"
     ]
    }
   ],
   "execution_count": 30
  },
  {
   "cell_type": "markdown",
   "source": [
    "# Задача 7\n",
    "Написать функцию, принимающая целое число n, задающее количество кубиков. Функция\n",
    "должна определить, можно ли из данного кол-ва кубиков построить пирамиду, то есть\n",
    "можно ли представить число n как 1^2+2^2+3^2+…+k^2. Если можно, то функция должна\n",
    "вернуть k, иначе строку “It is impossible”. Написать тесты для кода"
   ],
   "metadata": {
    "id": "ps2s0BudX7A2"
   }
  },
  {
   "cell_type": "code",
   "source": [
    "def find_pyramid_height(n):\n",
    "    current_sum = 0\n",
    "    k = 0\n",
    "    while current_sum < n:\n",
    "        k += 1\n",
    "        current_sum += k ** 2\n",
    "        if current_sum == n:\n",
    "            return k\n",
    "    return \"It is impossible\""
   ],
   "metadata": {
    "id": "3YPjEXxhX_YT",
    "ExecuteTime": {
     "end_time": "2025-04-02T14:29:36.082752Z",
     "start_time": "2025-04-02T14:29:36.079551Z"
    }
   },
   "outputs": [],
   "execution_count": 38
  },
  {
   "metadata": {
    "ExecuteTime": {
     "end_time": "2025-04-02T14:30:03.747266Z",
     "start_time": "2025-04-02T14:30:03.744099Z"
    }
   },
   "cell_type": "code",
   "source": [
    "print(find_pyramid_height(0))    # It is impossible\n",
    "print(find_pyramid_height(1))    # 1\n",
    "print(find_pyramid_height(5))    # 2\n",
    "print(find_pyramid_height(14))   # 3\n",
    "print(find_pyramid_height(30))   # 4\n",
    "print(find_pyramid_height(55))   # 5\n",
    "print(find_pyramid_height(54))   # It is impossible\n",
    "print(find_pyramid_height(-5))   # It is impossible\n",
    "print(find_pyramid_height(2))    # It is impossible\n",
    "print(find_pyramid_height(4))    # It is impossible"
   ],
   "outputs": [
    {
     "name": "stdout",
     "output_type": "stream",
     "text": [
      "It is impossible\n",
      "1\n",
      "2\n",
      "3\n",
      "4\n",
      "5\n",
      "It is impossible\n",
      "It is impossible\n",
      "It is impossible\n",
      "It is impossible\n"
     ]
    }
   ],
   "execution_count": 40
  },
  {
   "cell_type": "markdown",
   "source": [
    "# Задача 8\n",
    "Функция принимает на вход положительное число и определяет является ли оно сбалансированным, т.е. сумма цифр до средних равна сумме цифр после. Средними в случае нечетного числа цифр считать одну цифру, в случае четного - две средних. Написать тесты для кода"
   ],
   "metadata": {
    "id": "KeKgmIdAQMEJ"
   }
  },
  {
   "cell_type": "code",
   "source": [
    "def is_balanced_number(n):\n",
    "    num_str = str(n)\n",
    "    length = len(num_str)\n",
    "    \n",
    "    if length % 2 == 0:\n",
    "        mid1 = length // 2 - 1\n",
    "        mid2 = length // 2\n",
    "        left_sum = sum(int(num_str[i]) for i in range(mid1 + 1))\n",
    "        right_sum = sum(int(num_str[i]) for i in range(mid2, length))\n",
    "    else:\n",
    "        mid = length // 2\n",
    "        left_sum = sum(int(num_str[i]) for i in range(mid))\n",
    "        right_sum = sum(int(num_str[i]) for i in range(mid + 1, length))\n",
    "    \n",
    "    return left_sum == right_sum"
   ],
   "metadata": {
    "id": "gMAAqtqlQrZt",
    "ExecuteTime": {
     "end_time": "2025-04-02T14:31:22.820415Z",
     "start_time": "2025-04-02T14:31:22.816578Z"
    }
   },
   "outputs": [],
   "execution_count": 44
  },
  {
   "metadata": {
    "ExecuteTime": {
     "end_time": "2025-04-02T14:31:07.000441Z",
     "start_time": "2025-04-02T14:31:06.996979Z"
    }
   },
   "cell_type": "code",
   "source": [
    "print(is_balanced_number(123321))  # Ожидаем True, так как 1+2 = 3+2+1\n",
    "print(is_balanced_number(123456))  # Ожидаем False, так как 1+2+3 != 4+5+6\n",
    "print(is_balanced_number(12321))   # Ожидаем True, так как 1+2 = 2+1\n",
    "print(is_balanced_number(123))     # Ожидаем False, так как 1 != 3\n",
    "print(is_balanced_number(0))       # Ожидаем True, так как 0 = 0\n",
    "print(is_balanced_number(1111))    # Ожидаем True, так как 1+1 = 1+1"
   ],
   "outputs": [
    {
     "name": "stdout",
     "output_type": "stream",
     "text": [
      "True\n",
      "False\n",
      "True\n",
      "False\n",
      "True\n",
      "True\n"
     ]
    }
   ],
   "execution_count": 43
  }
 ]
}
